{
 "cells": [
  {
   "cell_type": "code",
   "execution_count": 3,
   "id": "fc16a4da",
   "metadata": {},
   "outputs": [],
   "source": [
    "spark = SparkSession.builder \\\n",
    "      .master(\"local[1]\") \\\n",
    "      .appName(\"yaswanth.kota\") \\\n",
    "      .getOrCreate() "
   ]
  },
  {
   "cell_type": "code",
   "execution_count": 2,
   "id": "aeb6c5ba",
   "metadata": {},
   "outputs": [],
   "source": [
    "from pyspark.sql import SparkSession"
   ]
  },
  {
   "cell_type": "code",
   "execution_count": 4,
   "id": "ff2da3f7",
   "metadata": {},
   "outputs": [],
   "source": [
    "data = spark.read.option(\"header\",True).csv(\"Capstone market analysis (4).csv\")"
   ]
  },
  {
   "cell_type": "code",
   "execution_count": 26,
   "id": "ce72b131",
   "metadata": {},
   "outputs": [
    {
     "name": "stdout",
     "output_type": "stream",
     "text": [
      "+---+------------+--------+---------+-------+-------+-------+----+-------+---+-----+--------+--------+-----+--------+--------+---+\n",
      "|age|         job| marital|education|default|balance|housing|loan|contact|day|month|duration|campaign|pdays|previous|poutcome|  y|\n",
      "+---+------------+--------+---------+-------+-------+-------+----+-------+---+-----+--------+--------+-----+--------+--------+---+\n",
      "| 58|  management| married| tertiary|     no|   2143|    yes|  no|unknown|  5|  may|     261|       1|   -1|       0| unknown| no|\n",
      "| 44|  technician|  single|secondary|     no|     29|    yes|  no|unknown|  5|  may|     151|       1|   -1|       0| unknown| no|\n",
      "| 33|entrepreneur| married|secondary|     no|      2|    yes| yes|unknown|  5|  may|      76|       1|   -1|       0| unknown| no|\n",
      "| 47| blue-collar| married|  unknown|     no|   1506|    yes|  no|unknown|  5|  may|      92|       1|   -1|       0| unknown| no|\n",
      "| 33|     unknown|  single|  unknown|     no|      1|     no|  no|unknown|  5|  may|     198|       1|   -1|       0| unknown| no|\n",
      "| 35|  management| married| tertiary|     no|    231|    yes|  no|unknown|  5|  may|     139|       1|   -1|       0| unknown| no|\n",
      "| 28|  management|  single| tertiary|     no|    447|    yes| yes|unknown|  5|  may|     217|       1|   -1|       0| unknown| no|\n",
      "| 42|entrepreneur|divorced| tertiary|    yes|      2|    yes|  no|unknown|  5|  may|     380|       1|   -1|       0| unknown| no|\n",
      "| 58|     retired| married|  primary|     no|    121|    yes|  no|unknown|  5|  may|      50|       1|   -1|       0| unknown| no|\n",
      "| 43|  technician|  single|secondary|     no|    593|    yes|  no|unknown|  5|  may|      55|       1|   -1|       0| unknown| no|\n",
      "| 41|      admin.|divorced|secondary|     no|    270|    yes|  no|unknown|  5|  may|     222|       1|   -1|       0| unknown| no|\n",
      "| 29|      admin.|  single|secondary|     no|    390|    yes|  no|unknown|  5|  may|     137|       1|   -1|       0| unknown| no|\n",
      "| 53|  technician| married|secondary|     no|      6|    yes|  no|unknown|  5|  may|     517|       1|   -1|       0| unknown| no|\n",
      "| 58|  technician| married|  unknown|     no|     71|    yes|  no|unknown|  5|  may|      71|       1|   -1|       0| unknown| no|\n",
      "| 57|    services| married|secondary|     no|    162|    yes|  no|unknown|  5|  may|     174|       1|   -1|       0| unknown| no|\n",
      "| 51|     retired| married|  primary|     no|    229|    yes|  no|unknown|  5|  may|     353|       1|   -1|       0| unknown| no|\n",
      "| 45|      admin.|  single|  unknown|     no|     13|    yes|  no|unknown|  5|  may|      98|       1|   -1|       0| unknown| no|\n",
      "| 57| blue-collar| married|  primary|     no|     52|    yes|  no|unknown|  5|  may|      38|       1|   -1|       0| unknown| no|\n",
      "| 60|     retired| married|  primary|     no|     60|    yes|  no|unknown|  5|  may|     219|       1|   -1|       0| unknown| no|\n",
      "| 33|    services| married|secondary|     no|      0|    yes|  no|unknown|  5|  may|      54|       1|   -1|       0| unknown| no|\n",
      "+---+------------+--------+---------+-------+-------+-------+----+-------+---+-----+--------+--------+-----+--------+--------+---+\n",
      "only showing top 20 rows\n",
      "\n"
     ]
    }
   ],
   "source": [
    "data.show()"
   ]
  },
  {
   "cell_type": "code",
   "execution_count": 27,
   "id": "656f315e",
   "metadata": {},
   "outputs": [],
   "source": [
    "data.createOrReplaceTempView(\"mytable\")"
   ]
  },
  {
   "cell_type": "code",
   "execution_count": 28,
   "id": "95dd211e",
   "metadata": {},
   "outputs": [],
   "source": [
    "successDF = spark.sql(\"SELECT count(*) AS successCount FROM mytable WHERE poutcome = 'success'\")"
   ]
  },
  {
   "cell_type": "code",
   "execution_count": 29,
   "id": "d5db792c",
   "metadata": {},
   "outputs": [],
   "source": [
    "failureDF = spark.sql(\"SELECT count(*) AS successCount FROM mytable WHERE poutcome = 'failure'\")"
   ]
  },
  {
   "cell_type": "code",
   "execution_count": 30,
   "id": "5cb030e0",
   "metadata": {},
   "outputs": [
    {
     "name": "stdout",
     "output_type": "stream",
     "text": [
      "+------------+\n",
      "|successCount|\n",
      "+------------+\n",
      "|        1511|\n",
      "+------------+\n",
      "\n"
     ]
    }
   ],
   "source": [
    "successDF.show()"
   ]
  },
  {
   "cell_type": "code",
   "execution_count": 31,
   "id": "10172c0c",
   "metadata": {},
   "outputs": [],
   "source": [
    "numDF = spark.sql(\"SELECT count(*) AS totalCount FROM mytable\")"
   ]
  },
  {
   "cell_type": "code",
   "execution_count": 32,
   "id": "21780bd8",
   "metadata": {},
   "outputs": [
    {
     "name": "stdout",
     "output_type": "stream",
     "text": [
      "+----------+\n",
      "|totalCount|\n",
      "+----------+\n",
      "|     45211|\n",
      "+----------+\n",
      "\n"
     ]
    }
   ],
   "source": [
    "numDF.show()"
   ]
  },
  {
   "cell_type": "code",
   "execution_count": 33,
   "id": "e8015175",
   "metadata": {},
   "outputs": [],
   "source": [
    "row1 = numDF.collect()[0]"
   ]
  },
  {
   "cell_type": "code",
   "execution_count": 34,
   "id": "ee862068",
   "metadata": {},
   "outputs": [],
   "source": [
    "value1 = row1[\"totalCount\"]"
   ]
  },
  {
   "cell_type": "code",
   "execution_count": 35,
   "id": "be9badc2",
   "metadata": {},
   "outputs": [],
   "source": [
    "rows = successDF.collect()\n",
    "first_row = rows[0]"
   ]
  },
  {
   "cell_type": "code",
   "execution_count": 36,
   "id": "dab6e3d4",
   "metadata": {},
   "outputs": [],
   "source": [
    "value = first_row[\"successCount\"]"
   ]
  },
  {
   "cell_type": "code",
   "execution_count": 37,
   "id": "98461d1b",
   "metadata": {},
   "outputs": [],
   "source": [
    "row2 = failureDF.collect()[0]"
   ]
  },
  {
   "cell_type": "code",
   "execution_count": 38,
   "id": "3d721a22",
   "metadata": {},
   "outputs": [],
   "source": [
    "value2 = first_row = rows[0][0]"
   ]
  },
  {
   "cell_type": "code",
   "execution_count": 39,
   "id": "c6559462",
   "metadata": {},
   "outputs": [
    {
     "ename": "NameError",
     "evalue": "name 'successCount' is not defined",
     "output_type": "error",
     "traceback": [
      "\u001b[1;31m---------------------------------------------------------------------------\u001b[0m",
      "\u001b[1;31mNameError\u001b[0m                                 Traceback (most recent call last)",
      "Cell \u001b[1;32mIn[39], line 1\u001b[0m\n\u001b[1;32m----> 1\u001b[0m \u001b[38;5;28mprint\u001b[39m(\u001b[43msuccessCount\u001b[49m)\n",
      "\u001b[1;31mNameError\u001b[0m: name 'successCount' is not defined"
     ]
    }
   ],
   "source": [
    "print(successCount)"
   ]
  },
  {
   "cell_type": "code",
   "execution_count": 40,
   "id": "ff26d637",
   "metadata": {},
   "outputs": [],
   "source": [
    "totalCount = numDF.first()"
   ]
  },
  {
   "cell_type": "code",
   "execution_count": 41,
   "id": "39e39a87",
   "metadata": {},
   "outputs": [
    {
     "name": "stdout",
     "output_type": "stream",
     "text": [
      "Row(totalCount=45211)\n"
     ]
    }
   ],
   "source": [
    "print(totalCount)"
   ]
  },
  {
   "cell_type": "code",
   "execution_count": 42,
   "id": "bc7bacc7",
   "metadata": {},
   "outputs": [],
   "source": [
    "MarketingSuccessRate = value/value1"
   ]
  },
  {
   "cell_type": "code",
   "execution_count": 43,
   "id": "dd831ab6",
   "metadata": {},
   "outputs": [
    {
     "name": "stdout",
     "output_type": "stream",
     "text": [
      "0.0334210700935613\n"
     ]
    }
   ],
   "source": [
    "print(MarketingSuccessRate)"
   ]
  },
  {
   "cell_type": "code",
   "execution_count": 44,
   "id": "d11ddb36",
   "metadata": {},
   "outputs": [],
   "source": [
    "marketingFailureRate = value2/ value1"
   ]
  },
  {
   "cell_type": "code",
   "execution_count": 45,
   "id": "d65d1aef",
   "metadata": {},
   "outputs": [
    {
     "name": "stdout",
     "output_type": "stream",
     "text": [
      "0.0334210700935613\n"
     ]
    }
   ],
   "source": [
    "print(marketingFailureRate)"
   ]
  },
  {
   "cell_type": "code",
   "execution_count": 46,
   "id": "2c958392",
   "metadata": {},
   "outputs": [
    {
     "name": "stdout",
     "output_type": "stream",
     "text": [
      "avg:  40.93621021432837\n",
      "min:  18\n",
      "max:  95\n"
     ]
    }
   ],
   "source": [
    "from pyspark.sql.functions import avg, min, max\n",
    "\n",
    "\n",
    "avg_age = data.select(avg(\"age\")).collect()[0][0]\n",
    "min_age = data.select(min(\"age\")).collect()[0][0]\n",
    "max_age = data.select(max(\"age\")).collect()[0][0]\n",
    "\n",
    "\n",
    "print(\"avg: \", avg_age)\n",
    "print(\"min: \", min_age)\n",
    "print(\"max: \", max_age)"
   ]
  },
  {
   "cell_type": "code",
   "execution_count": 47,
   "id": "31af7493",
   "metadata": {},
   "outputs": [
    {
     "name": "stdout",
     "output_type": "stream",
     "text": [
      "+---+------+\n",
      "|age|number|\n",
      "+---+------+\n",
      "| 32|   221|\n",
      "| 30|   217|\n",
      "| 33|   210|\n",
      "| 35|   209|\n",
      "| 31|   206|\n",
      "| 34|   198|\n",
      "| 36|   195|\n",
      "| 29|   171|\n",
      "| 37|   170|\n",
      "| 28|   162|\n",
      "| 38|   144|\n",
      "| 39|   143|\n",
      "| 27|   141|\n",
      "| 26|   134|\n",
      "| 41|   120|\n",
      "| 46|   118|\n",
      "| 40|   116|\n",
      "| 47|   113|\n",
      "| 25|   113|\n",
      "| 42|   111|\n",
      "+---+------+\n",
      "only showing top 20 rows\n",
      "\n"
     ]
    }
   ],
   "source": [
    "\n",
    " age  = spark.sql(\"select age , count(*) as number from mytable where y = 'yes' group by age order by number desc\").show()"
   ]
  },
  {
   "cell_type": "code",
   "execution_count": 48,
   "id": "3d9438c6",
   "metadata": {},
   "outputs": [
    {
     "name": "stdout",
     "output_type": "stream",
     "text": [
      "+--------+------+\n",
      "| marital|number|\n",
      "+--------+------+\n",
      "| married|  2755|\n",
      "|  single|  1912|\n",
      "|divorced|   622|\n",
      "+--------+------+\n",
      "\n"
     ]
    }
   ],
   "source": [
    "marital = spark.sql(\"select marital, count(*) as number from mytable where y='yes' group by marital order by number desc \").show()"
   ]
  },
  {
   "cell_type": "code",
   "execution_count": 49,
   "id": "3301feda",
   "metadata": {},
   "outputs": [
    {
     "name": "stdout",
     "output_type": "stream",
     "text": [
      "+--------+------+\n",
      "| marital|number|\n",
      "+--------+------+\n",
      "| married|  2755|\n",
      "|  single|  1912|\n",
      "|divorced|   622|\n",
      "+--------+------+\n",
      "\n"
     ]
    }
   ],
   "source": [
    "marital = spark.sql(\"select marital, count(*) as number from mytable where y='yes' group by marital order by number desc \").show()"
   ]
  },
  {
   "cell_type": "code",
   "execution_count": 50,
   "id": "a452ae8f",
   "metadata": {},
   "outputs": [
    {
     "name": "stdout",
     "output_type": "stream",
     "text": [
      "+------------------+\n",
      "|   average_balance|\n",
      "+------------------+\n",
      "|1362.2720576850766|\n",
      "+------------------+\n",
      "\n"
     ]
    }
   ],
   "source": [
    "spark.sql(\"SELECT AVG(balance) AS average_balance FROM mytable\").show()"
   ]
  },
  {
   "cell_type": "code",
   "execution_count": null,
   "id": "3d20a73c",
   "metadata": {},
   "outputs": [],
   "source": []
  }
 ],
 "metadata": {
  "kernelspec": {
   "display_name": "Python 3 (ipykernel)",
   "language": "python",
   "name": "python3"
  },
  "language_info": {
   "codemirror_mode": {
    "name": "ipython",
    "version": 3
   },
   "file_extension": ".py",
   "mimetype": "text/x-python",
   "name": "python",
   "nbconvert_exporter": "python",
   "pygments_lexer": "ipython3",
   "version": "3.10.9"
  }
 },
 "nbformat": 4,
 "nbformat_minor": 5
}
